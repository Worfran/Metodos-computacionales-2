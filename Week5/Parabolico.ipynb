{
 "cells": [
  {
   "cell_type": "code",
   "execution_count": 1,
   "id": "7af4e8cd",
   "metadata": {},
   "outputs": [],
   "source": [
    "import numpy as np\n",
    "import matplotlib.pyplot as plt\n",
    "from scipy.integrate import solve_ivp\n",
    "from scipy import integrate\n",
    "from scipy.optimize import fsolve\n",
    "from IPython.display import IFrame"
   ]
  },
  {
   "cell_type": "code",
   "execution_count": 4,
   "id": "d30f9593",
   "metadata": {
    "scrolled": true
   },
   "outputs": [
    {
     "data": {
      "text/html": [
       "\n",
       "        <iframe\n",
       "            width=\"500\"\n",
       "            height=\"300\"\n",
       "            src=\"Parabolico.pdf\"\n",
       "            frameborder=\"0\"\n",
       "            allowfullscreen\n",
       "        ></iframe>\n",
       "        "
      ],
      "text/plain": [
       "<IPython.lib.display.IFrame at 0x7f109110f2e0>"
      ]
     },
     "execution_count": 4,
     "metadata": {},
     "output_type": "execute_result"
    }
   ],
   "source": [
    "file = 'Parabolico.pdf'\n",
    "IFrame(file, width=500,height=300)"
   ]
  },
  {
   "cell_type": "code",
   "execution_count": 5,
   "id": "e3c2e86b",
   "metadata": {},
   "outputs": [],
   "source": [
    "def System(t, r0, g = 9.8):\n",
    "    \n",
    "    x,y,vx,vy = r0\n",
    "    ax = 0.\n",
    "    ay = -g\n",
    "    \n",
    "    return np.array([vx,vy,ax,ay])"
   ]
  },
  {
   "cell_type": "code",
   "execution_count": 13,
   "id": "deef450b",
   "metadata": {},
   "outputs": [],
   "source": [
    "v0 = 90.\n",
    "alpha = np.deg2rad(60)\n",
    "\n",
    "r0 = np.array([0.,0.,v0*np.cos(alpha),v0*np.sin(alpha)])"
   ]
  },
  {
   "cell_type": "code",
   "execution_count": 14,
   "id": "71f2fbc2",
   "metadata": {},
   "outputs": [
    {
     "name": "stdout",
     "output_type": "stream",
     "text": [
      "[0.  0.5 1.  1.5 2.  2.5 3.  3.5 4.  4.5 5. ]\n"
     ]
    }
   ],
   "source": [
    "N = 10\n",
    "t = np.linspace(0.,5.,N+1)\n",
    "print(t)"
   ]
  },
  {
   "cell_type": "code",
   "execution_count": 15,
   "id": "3402cb0b",
   "metadata": {},
   "outputs": [
    {
     "name": "stdout",
     "output_type": "stream",
     "text": [
      "CPU times: user 3.41 ms, sys: 0 ns, total: 3.41 ms\n",
      "Wall time: 2.81 ms\n"
     ]
    }
   ],
   "source": [
    "%%time\n",
    "solution = solve_ivp( System, (t[0],t[-1]), r0, t_eval = t, method = 'RK45' )"
   ]
  },
  {
   "cell_type": "code",
   "execution_count": 29,
   "id": "aa6622f8",
   "metadata": {},
   "outputs": [],
   "source": [
    "t = solution.t\n",
    "x = solution.y[0]\n",
    "y = solution.y[1]\n",
    "vx = solution.y[2]"
   ]
  },
  {
   "cell_type": "code",
   "execution_count": 30,
   "id": "231cf982",
   "metadata": {},
   "outputs": [
    {
     "data": {
      "text/plain": [
       "[<matplotlib.lines.Line2D at 0x7f108ee682e0>]"
      ]
     },
     "execution_count": 30,
     "metadata": {},
     "output_type": "execute_result"
    },
    {
     "data": {
      "image/png": "[encoded data removed]",
      "text/plain": [
       "<Figure size 432x288 with 1 Axes>"
      ]
     },
     "metadata": {
      "needs_background": "light"
     },
     "output_type": "display_data"
    }
   ],
   "source": [
    "plt.plot(t,vx)"
   ]
  },
  {
   "cell_type": "code",
   "execution_count": 17,
   "id": "c917bb8b",
   "metadata": {},
   "outputs": [
    {
     "data": {
      "text/plain": [
       "<matplotlib.patches.FancyArrow at 0x7f108ef96c10>"
      ]
     },
     "execution_count": 17,
     "metadata": {},
     "output_type": "execute_result"
    },
    {
     "data": {
      "image/png": "[encoded data removed]",
      "text/plain": [
       "<Figure size 720x360 with 1 Axes>"
      ]
     },
     "metadata": {
      "needs_background": "light"
     },
     "output_type": "display_data"
    }
   ],
   "source": [
    "fig = plt.figure(figsize=(10,5))\n",
    "ax = fig.add_subplot(111)\n",
    "ax.plot(x,y,'--',marker='*',color='k')\n",
    "plt.scatter(v0*np.cos(alpha)*t[-1],200.,color='b',s=100)\n",
    "plt.arrow(0,0,r0[2],r0[3],color='r',head_width=4)\n",
    "#plt.savefig('Parabolico.pdf')"
   ]
  },
  {
   "cell_type": "code",
   "execution_count": 20,
   "id": "4e984c97",
   "metadata": {},
   "outputs": [],
   "source": [
    "def Root(x0):\n",
    "    \n",
    "    v0 = x0[0]\n",
    "    \n",
    "    r0 = np.array([0.,0.,v0*np.cos(alpha),v0*np.sin(alpha)])\n",
    "    \n",
    "    solution = solve_ivp( System, (t[0],t[-1]), r0, t_eval = t, method = 'RK45' )\n",
    "    \n",
    "    y = solution.y[1]\n",
    "    \n",
    "    return [y[-1] - 200.]"
   ]
  },
  {
   "cell_type": "code",
   "execution_count": 25,
   "id": "1650de78",
   "metadata": {},
   "outputs": [
    {
     "name": "stdout",
     "output_type": "stream",
     "text": [
      "74.4781847254617\n"
     ]
    }
   ],
   "source": [
    "v0, = fsolve(Root, [100])\n",
    "print(v0)"
   ]
  },
  {
   "cell_type": "code",
   "execution_count": 27,
   "id": "c0bef7ea",
   "metadata": {},
   "outputs": [],
   "source": [
    "r0 = np.array([0.,0.,v0*np.cos(alpha),v0*np.sin(alpha)])\n",
    "solution = solve_ivp( System, (t[0],t[-1]), r0, t_eval = t, method = 'RK45' )\n",
    "t = solution.t\n",
    "x = solution.y[0]\n",
    "y = solution.y[1]"
   ]
  },
  {
   "cell_type": "code",
   "execution_count": 28,
   "id": "1b3acf4c",
   "metadata": {},
   "outputs": [
    {
     "data": {
      "text/plain": [
       "<matplotlib.patches.FancyArrow at 0x7f108ef09ee0>"
      ]
     },
     "execution_count": 28,
     "metadata": {},
     "output_type": "execute_result"
    },
    {
     "data": {
      "image/png": "[encoded data removed]",
      "text/plain": [
       "<Figure size 720x360 with 1 Axes>"
      ]
     },
     "metadata": {
      "needs_background": "light"
     },
     "output_type": "display_data"
    }
   ],
   "source": [
    "fig = plt.figure(figsize=(10,5))\n",
    "ax = fig.add_subplot(111)\n",
    "ax.plot(x,y,'--',marker='*',color='k')\n",
    "plt.scatter(v0*np.cos(alpha)*t[-1],200.,color='b',s=100)\n",
    "plt.arrow(0,0,r0[2],r0[3],color='r',head_width=4)"
   ]
  },
  {
   "cell_type": "code",
   "execution_count": null,
   "id": "f8fb5516",
   "metadata": {},
   "outputs": [],
   "source": []
  }
 ],
 "metadata": {
  "kernelspec": {
   "display_name": "Python 3",
   "language": "python",
   "name": "python3"
  },
  "language_info": {
   "codemirror_mode": {
    "name": "ipython",
    "version": 3
   },
   "file_extension": ".py",
   "mimetype": "text/x-python",
   "name": "python",
   "nbconvert_exporter": "python",
   "pygments_lexer": "ipython3",
   "version": "3.8.2"
  }
 },
 "nbformat": 4,
 "nbformat_minor": 5
}
