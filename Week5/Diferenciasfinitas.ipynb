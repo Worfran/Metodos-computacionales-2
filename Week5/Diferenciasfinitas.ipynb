{
 "cells": [
  {
   "cell_type": "code",
   "execution_count": 1,
   "id": "e1540753",
   "metadata": {},
   "outputs": [],
   "source": [
    "import numpy as np\n",
    "import matplotlib.pyplot as plt"
   ]
  },
  {
   "cell_type": "markdown",
   "id": "e87a85da",
   "metadata": {},
   "source": [
    "$$ n = 10, h = 0.5 $$\n",
    "$$ x_{0} = 0., x_{10} = 186.20 $$\n",
    "$$ y_{0} = 0., y_{10} = 200 $$\n",
    "\n",
    "$$ y_{i-1} - 2y_{i} + y_{i+1} = -gh^{2} $$\n",
    "$$ x_{i-1} - 2x_{i} + x_{i+1} = 0 $$\n",
    "\n",
    "$$ Vx_{0} = \\frac{x_{0+1}-x_{0-1}}{2h} $$\n",
    "$$ Vy_{0} = \\frac{y_{0+1}-y_{0-1}}{2h} $$"
   ]
  },
  {
   "cell_type": "code",
   "execution_count": 2,
   "id": "d6a8be6d",
   "metadata": {},
   "outputs": [],
   "source": [
    "y_boundary = np.array([0.,200.])"
   ]
  },
  {
   "cell_type": "code",
   "execution_count": 3,
   "id": "c571013b",
   "metadata": {},
   "outputs": [],
   "source": [
    "N = 10\n",
    "t = np.linspace(0.,5.,N+1)\n",
    "h = t[1]- t[0]"
   ]
  },
  {
   "cell_type": "code",
   "execution_count": 15,
   "id": "84fcd62b",
   "metadata": {},
   "outputs": [],
   "source": [
    "def GetMatrix(N):\n",
    "    \n",
    "    A = np.zeros((N+1,N+1))\n",
    "    A[0,0] = 1.\n",
    "    A[N,N] = 1.\n",
    "    \n",
    "    for i in range(1,N): # No tocar las fronteras\n",
    "        A[i,i] = -2.\n",
    "        A[i,i-1] = 1.\n",
    "        A[i,i+1] = 1.\n",
    "        \n",
    "    return A"
   ]
  },
  {
   "cell_type": "code",
   "execution_count": 16,
   "id": "d66382e8",
   "metadata": {},
   "outputs": [],
   "source": [
    "def Getb( N, yb, h, g = 9.81 ):\n",
    "    \n",
    "    b = np.zeros(N+1)\n",
    "    b[:] = -g*h**2\n",
    "    b[0] = yb[0]\n",
    "    b[-1] = yb[-1]\n",
    "    \n",
    "    return b"
   ]
  },
  {
   "cell_type": "code",
   "execution_count": 17,
   "id": "165abea1",
   "metadata": {},
   "outputs": [],
   "source": [
    "T = GetMatrix(N)\n",
    "b = Getb(N,y_boundary,h)"
   ]
  },
  {
   "cell_type": "code",
   "execution_count": 18,
   "id": "666f6450",
   "metadata": {},
   "outputs": [
    {
     "name": "stdout",
     "output_type": "stream",
     "text": [
      "[[ 1.  0.  0.  0.  0.  0.  0.  0.  0.  0.  0.]\n",
      " [ 1. -2.  1.  0.  0.  0.  0.  0.  0.  0.  0.]\n",
      " [ 0.  1. -2.  1.  0.  0.  0.  0.  0.  0.  0.]\n",
      " [ 0.  0.  1. -2.  1.  0.  0.  0.  0.  0.  0.]\n",
      " [ 0.  0.  0.  1. -2.  1.  0.  0.  0.  0.  0.]\n",
      " [ 0.  0.  0.  0.  1. -2.  1.  0.  0.  0.  0.]\n",
      " [ 0.  0.  0.  0.  0.  1. -2.  1.  0.  0.  0.]\n",
      " [ 0.  0.  0.  0.  0.  0.  1. -2.  1.  0.  0.]\n",
      " [ 0.  0.  0.  0.  0.  0.  0.  1. -2.  1.  0.]\n",
      " [ 0.  0.  0.  0.  0.  0.  0.  0.  1. -2.  1.]\n",
      " [ 0.  0.  0.  0.  0.  0.  0.  0.  0.  0.  1.]]\n",
      "[  0.      -2.4525  -2.4525  -2.4525  -2.4525  -2.4525  -2.4525  -2.4525\n",
      "  -2.4525  -2.4525 200.    ]\n"
     ]
    }
   ],
   "source": [
    "print(T)\n",
    "print(b)"
   ]
  },
  {
   "cell_type": "code",
   "execution_count": 19,
   "id": "88307991",
   "metadata": {},
   "outputs": [
    {
     "name": "stdout",
     "output_type": "stream",
     "text": [
      "[  0.       31.03625  59.62     85.75125 109.43    130.65625 149.43\n",
      " 165.75125 179.62    191.03625 200.     ]\n"
     ]
    }
   ],
   "source": [
    "y = np.linalg.solve(T,b)\n",
    "print(y)"
   ]
  },
  {
   "cell_type": "code",
   "execution_count": 20,
   "id": "2b5d1133",
   "metadata": {},
   "outputs": [
    {
     "data": {
      "text/plain": [
       "Text(0, 0.5, '$y[m]$')"
      ]
     },
     "execution_count": 20,
     "metadata": {},
     "output_type": "execute_result"
    },
    {
     "data": {
      "image/png": "[encoded data removed]",
      "text/plain": [
       "<Figure size 720x360 with 1 Axes>"
      ]
     },
     "metadata": {
      "needs_background": "light"
     },
     "output_type": "display_data"
    }
   ],
   "source": [
    "fig = plt.figure(figsize=(10,5))\n",
    "ax = fig.add_subplot(111)\n",
    "ax.plot(t,y,'-*',marker='*',color='k')\n",
    "ax.set_xlabel(r'$t[s]$',fontsize=15)\n",
    "ax.set_ylabel(r'$y[m]$',fontsize=15)"
   ]
  },
  {
   "cell_type": "code",
   "execution_count": 21,
   "id": "13f335b4",
   "metadata": {},
   "outputs": [
    {
     "name": "stdout",
     "output_type": "stream",
     "text": [
      "-33.48875\n"
     ]
    }
   ],
   "source": [
    "yn_1 = -9.81*h**2 + 2*y[0] - y[1]\n",
    "print(yn_1)"
   ]
  },
  {
   "cell_type": "code",
   "execution_count": 23,
   "id": "35ef7f09",
   "metadata": {},
   "outputs": [
    {
     "name": "stdout",
     "output_type": "stream",
     "text": [
      "64.525\n"
     ]
    }
   ],
   "source": [
    "vy = (y[1]-yn_1)/(2*h)\n",
    "print(vy)"
   ]
  },
  {
   "cell_type": "code",
   "execution_count": null,
   "id": "8cc69c44",
   "metadata": {},
   "outputs": [],
   "source": []
  }
 ],
 "metadata": {
  "kernelspec": {
   "display_name": "Python 3",
   "language": "python",
   "name": "python3"
  },
  "language_info": {
   "codemirror_mode": {
    "name": "ipython",
    "version": 3
   },
   "file_extension": ".py",
   "mimetype": "text/x-python",
   "name": "python",
   "nbconvert_exporter": "python",
   "pygments_lexer": "ipython3",
   "version": "3.8.2"
  }
 },
 "nbformat": 4,
 "nbformat_minor": 5
}
