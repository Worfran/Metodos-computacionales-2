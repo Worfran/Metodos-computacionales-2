{
 "cells": [
  {
   "cell_type": "code",
   "execution_count": 1,
   "id": "fdbddac2",
   "metadata": {},
   "outputs": [],
   "source": [
    "import numpy as np\n",
    "import sympy as sym"
   ]
  },
  {
   "cell_type": "markdown",
   "id": "45109df0",
   "metadata": {},
   "source": [
    "$$[ t_{n-2} ,t_{n-1}, t_{n}, t_{n+1}, t_{n+2} ]$$\n",
    "$$[  -2h, -h, 0, h, 2h ]$$   \n",
    "\n",
    "Formula de dos puntos\n",
    "$$ [f_{n},t_{n}] \\ [f_{n-1},t_{n-1}] $$"
   ]
  },
  {
   "cell_type": "code",
   "execution_count": 2,
   "id": "60ee6857",
   "metadata": {},
   "outputs": [],
   "source": [
    "t = sym.Symbol('t',Real=True)\n",
    "h = sym.Symbol('h',Real=True)"
   ]
  },
  {
   "cell_type": "code",
   "execution_count": 3,
   "id": "d7bb0f97",
   "metadata": {},
   "outputs": [],
   "source": [
    "F1 = (t - (-h))/h\n",
    "F2 = -(t - (0))/h"
   ]
  },
  {
   "cell_type": "code",
   "execution_count": 4,
   "id": "9e9cf471",
   "metadata": {},
   "outputs": [
    {
     "name": "stdout",
     "output_type": "stream",
     "text": [
      "3*h/2 -h/2\n"
     ]
    }
   ],
   "source": [
    "I1 = sym.integrate(F1, (t,0,h))\n",
    "I2 = sym.integrate(F2, (t,0,h))\n",
    "print(I1,I2)"
   ]
  },
  {
   "cell_type": "code",
   "execution_count": 5,
   "id": "13199dad",
   "metadata": {},
   "outputs": [],
   "source": [
    "F1 = (t - (0))/h\n",
    "F2 = -(t - (h))/h"
   ]
  },
  {
   "cell_type": "code",
   "execution_count": 6,
   "id": "11d0bcfc",
   "metadata": {},
   "outputs": [
    {
     "name": "stdout",
     "output_type": "stream",
     "text": [
      "h/2 h/2\n"
     ]
    }
   ],
   "source": [
    "I1 = sym.integrate(F1, (t,0,h))\n",
    "I2 = sym.integrate(F2, (t,0,h))\n",
    "print(I1,I2)"
   ]
  },
  {
   "cell_type": "code",
   "execution_count": null,
   "id": "72b84127",
   "metadata": {},
   "outputs": [],
   "source": []
  },
  {
   "cell_type": "markdown",
   "id": "0fb950c4",
   "metadata": {},
   "source": [
    "Formula de tres puntos\n",
    "$$ [f_{n},t_{n}] \\ [f_{n-1},t_{n-1}] [f_{n-2},t_{n-2}]$$\n",
    "\n",
    "$$ f_{n}\\bigg(\\frac{t-t_{n-1}}{t_{n}-t_{n-1}}\\bigg)\\bigg(\\frac{t-t_{n-2}}{t_{n}-t_{n-2}}\\bigg)  $$"
   ]
  },
  {
   "cell_type": "code",
   "execution_count": 7,
   "id": "90120db9",
   "metadata": {},
   "outputs": [],
   "source": [
    "F1 = (t-(-h))*(t-(-2*h))/(2*h**2)\n",
    "F2 = -(t-(0))*(t-(-2*h))/(h**2)\n",
    "F3 = (t-(-h))*(t-(0))/(2*h**2)"
   ]
  },
  {
   "cell_type": "code",
   "execution_count": 8,
   "id": "cb984bda",
   "metadata": {},
   "outputs": [
    {
     "name": "stdout",
     "output_type": "stream",
     "text": [
      "23*h/12 -4*h/3 5*h/12\n"
     ]
    }
   ],
   "source": [
    "I1 = sym.integrate(F1, (t,0,h))\n",
    "I2 = sym.integrate(F2, (t,0,h))\n",
    "I3 = sym.integrate(F3, (t,0,h))\n",
    "print(I1,I2,I3)"
   ]
  },
  {
   "cell_type": "code",
   "execution_count": null,
   "id": "71570e7f",
   "metadata": {},
   "outputs": [],
   "source": []
  }
 ],
 "metadata": {
  "kernelspec": {
   "display_name": "Python 3",
   "language": "python",
   "name": "python3"
  },
  "language_info": {
   "codemirror_mode": {
    "name": "ipython",
    "version": 3
   },
   "file_extension": ".py",
   "mimetype": "text/x-python",
   "name": "python",
   "nbconvert_exporter": "python",
   "pygments_lexer": "ipython3",
   "version": "3.8.2"
  }
 },
 "nbformat": 4,
 "nbformat_minor": 5
}
