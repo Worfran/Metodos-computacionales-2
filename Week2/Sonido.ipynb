{
 "cells": [
  {
   "cell_type": "code",
   "execution_count": 1,
   "id": "1c782b51",
   "metadata": {},
   "outputs": [],
   "source": [
    "import numpy as np\n",
    "import matplotlib.pyplot as plt\n",
    "import scipy.io.wavfile as wav\n",
    "import os.path as path\n",
    "import wget"
   ]
  },
  {
   "cell_type": "code",
   "execution_count": 2,
   "id": "2fba5663",
   "metadata": {},
   "outputs": [],
   "source": [
    "def LoadFiles(file,url):\n",
    "    if not path.exists(file):\n",
    "        Path_ = wget.download(url,file)\n",
    "        print('File loaded')\n",
    "    else:\n",
    "        Path_ = file\n",
    "        \n",
    "    return Path_"
   ]
  },
  {
   "cell_type": "code",
   "execution_count": 3,
   "id": "feb98d9d",
   "metadata": {},
   "outputs": [],
   "source": [
    "file = 'Data/Do.wav'\n",
    "url = 'https://github.com/asegura4488/DataBase/blob/main/MetodosComputacionales/Do.wav'\n",
    "file1 = 'Data/Sol.wav'\n",
    "url1 = 'https://github.com/asegura4488/DataBase/blob/main/MetodosComputacionales/Sol.wav'"
   ]
  },
  {
   "cell_type": "code",
   "execution_count": 4,
   "id": "d0fd25e2",
   "metadata": {},
   "outputs": [],
   "source": [
    "#Path1 = LoadFiles(file,url)\n",
    "#Path2 = LoadFiles(file1,url1)"
   ]
  },
  {
   "cell_type": "code",
   "execution_count": 5,
   "id": "8d2a127e",
   "metadata": {},
   "outputs": [],
   "source": [
    "rated, do = wav.read(file)\n",
    "rates, sol = wav.read(file1)"
   ]
  },
  {
   "cell_type": "code",
   "execution_count": null,
   "id": "08b99472",
   "metadata": {},
   "outputs": [],
   "source": []
  },
  {
   "cell_type": "code",
   "execution_count": 6,
   "id": "ac4007bf",
   "metadata": {},
   "outputs": [],
   "source": [
    "Frecuenciasdo = np.arange(0, do.shape[0]//2 + 1)\n",
    "Frecuenciassol = np.arange(0, sol.shape[0]//2 + 1)"
   ]
  },
  {
   "cell_type": "code",
   "execution_count": 7,
   "id": "ad159eba",
   "metadata": {},
   "outputs": [],
   "source": [
    "fftdo = np.fft.rfft(do)\n",
    "fftsol = np.fft.rfft(sol)"
   ]
  },
  {
   "cell_type": "code",
   "execution_count": 8,
   "id": "70dccb84",
   "metadata": {},
   "outputs": [
    {
     "data": {
      "text/plain": [
       "[<matplotlib.lines.Line2D at 0x7f9a1580cac0>]"
      ]
     },
     "execution_count": 8,
     "metadata": {},
     "output_type": "execute_result"
    },
    {
     "data": {
      "image/png": "[encoded data removed]",
      "text/plain": [
       "<Figure size 432x288 with 1 Axes>"
      ]
     },
     "metadata": {
      "needs_background": "light"
     },
     "output_type": "display_data"
    }
   ],
   "source": [
    "plt.plot(Frecuenciasdo,np.abs(fftdo))\n",
    "plt.plot(Frecuenciassol,np.abs(fftsol))"
   ]
  },
  {
   "cell_type": "code",
   "execution_count": 9,
   "id": "31deaafc",
   "metadata": {},
   "outputs": [],
   "source": [
    "mask = Frecuenciassol > 3000"
   ]
  },
  {
   "cell_type": "code",
   "execution_count": 10,
   "id": "855f3f40",
   "metadata": {},
   "outputs": [],
   "source": [
    "fftsol[mask] = 0\n",
    "NewFreqSol = np.arange(len(fftsol))"
   ]
  },
  {
   "cell_type": "code",
   "execution_count": 11,
   "id": "90b5a063",
   "metadata": {},
   "outputs": [
    {
     "data": {
      "text/plain": [
       "[<matplotlib.lines.Line2D at 0x7f9a136f67f0>]"
      ]
     },
     "execution_count": 11,
     "metadata": {},
     "output_type": "execute_result"
    },
    {
     "data": {
      "image/png": "[encoded data removed]",
      "text/plain": [
       "<Figure size 432x288 with 1 Axes>"
      ]
     },
     "metadata": {
      "needs_background": "light"
     },
     "output_type": "display_data"
    }
   ],
   "source": [
    "plt.plot(NewFreqSol,np.abs(fftsol))"
   ]
  },
  {
   "cell_type": "code",
   "execution_count": 12,
   "id": "48e844aa",
   "metadata": {},
   "outputs": [],
   "source": [
    "NuevaNota = np.fft.irfft(fftsol)"
   ]
  },
  {
   "cell_type": "code",
   "execution_count": 13,
   "id": "4134269d",
   "metadata": {},
   "outputs": [],
   "source": [
    "NuevoSol = NuevaNota.astype(np.int16)\n",
    "wav.write(\"NuevoSol.wav\",rates,NuevoSol)"
   ]
  },
  {
   "cell_type": "code",
   "execution_count": null,
   "id": "f595f7ef",
   "metadata": {},
   "outputs": [],
   "source": []
  }
 ],
 "metadata": {
  "kernelspec": {
   "display_name": "Python 3",
   "language": "python",
   "name": "python3"
  },
  "language_info": {
   "codemirror_mode": {
    "name": "ipython",
    "version": 3
   },
   "file_extension": ".py",
   "mimetype": "text/x-python",
   "name": "python",
   "nbconvert_exporter": "python",
   "pygments_lexer": "ipython3",
   "version": "3.8.2"
  }
 },
 "nbformat": 4,
 "nbformat_minor": 5
}
