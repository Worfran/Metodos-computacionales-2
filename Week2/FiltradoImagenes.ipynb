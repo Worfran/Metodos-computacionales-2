{
 "cells": [
  {
   "cell_type": "code",
   "execution_count": 1,
   "id": "0d31e5a7",
   "metadata": {},
   "outputs": [
    {
     "name": "stdout",
     "output_type": "stream",
     "text": [
      "Using matplotlib backend: Qt5Agg\n",
      "Populating the interactive namespace from numpy and matplotlib\n"
     ]
    }
   ],
   "source": [
    "%pylab\n",
    "import numpy as np\n",
    "import cv2\n",
    "import matplotlib.pyplot as plt"
   ]
  },
  {
   "cell_type": "code",
   "execution_count": 2,
   "id": "2b706660",
   "metadata": {},
   "outputs": [
    {
     "data": {
      "text/plain": [
       "(201, 251, 3)"
      ]
     },
     "execution_count": 2,
     "metadata": {},
     "output_type": "execute_result"
    }
   ],
   "source": [
    "#image = cv2.imread('Data/paisaje.jpg')\n",
    "image = cv2.imread('Data/homer.png')\n",
    "cv2.imshow('ImagenOriginal',image)\n",
    "image.shape"
   ]
  },
  {
   "cell_type": "code",
   "execution_count": 3,
   "id": "ee1652c4",
   "metadata": {},
   "outputs": [
    {
     "name": "stdout",
     "output_type": "stream",
     "text": [
      "(512, 512)\n"
     ]
    }
   ],
   "source": [
    "# Reescalar la imagen\n",
    "Nx, Ny = 512,512\n",
    "image = cv2.resize(image,(Nx,Ny))\n",
    "\n",
    "# Escala de grises\n",
    "\n",
    "image_gray = cv2.cvtColor(image, cv2.COLOR_RGB2GRAY)\n",
    "\n",
    "print(image_gray.shape)\n",
    "\n",
    "# Conversion a punto flotante para hacer math\n",
    "image_gray_float = np.float64(image_gray)"
   ]
  },
  {
   "cell_type": "code",
   "execution_count": 4,
   "id": "62bfedca",
   "metadata": {},
   "outputs": [],
   "source": [
    "cv2.imshow('ImageGray', image_gray)"
   ]
  },
  {
   "cell_type": "code",
   "execution_count": 5,
   "id": "a4fad775",
   "metadata": {},
   "outputs": [],
   "source": [
    "FFT = np.fft.fft2(image_gray_float)\n",
    "FFT = np.fft.fftshift(FFT)\n",
    "FFTA = np.abs(FFT)\n",
    "FFTLog = np.log10(FFTA)"
   ]
  },
  {
   "cell_type": "code",
   "execution_count": 6,
   "id": "b95f9206",
   "metadata": {},
   "outputs": [],
   "source": [
    "cv2.imshow('EspectroFourier', np.uint8( 225*FFTLog/np.max(FFTLog)  ))"
   ]
  },
  {
   "cell_type": "code",
   "execution_count": null,
   "id": "78ae2293",
   "metadata": {},
   "outputs": [],
   "source": []
  },
  {
   "cell_type": "code",
   "execution_count": 7,
   "id": "f92270d7",
   "metadata": {},
   "outputs": [],
   "source": [
    "# Apli car un filtro \n",
    "F1 = np.arange( -0.5*Nx + 1, 0.5*Nx + 1, 1)\n",
    "F2 = np.arange( -0.5*Ny + 1, 0.5*Ny + 1, 1)\n",
    "[X,Y] = np.meshgrid(F1,F2)"
   ]
  },
  {
   "cell_type": "code",
   "execution_count": 8,
   "id": "eedf2cd2",
   "metadata": {},
   "outputs": [],
   "source": [
    "D = np.sqrt(X**2+Y**2)\n",
    "D = D/np.max(D)"
   ]
  },
  {
   "cell_type": "code",
   "execution_count": 9,
   "id": "1dab87f6",
   "metadata": {},
   "outputs": [
    {
     "name": "stdout",
     "output_type": "stream",
     "text": [
      "[[0.99609375 0.99414254 0.99219519 ... 0.99414254 0.99609375 0.99804879]\n",
      " [0.99414254 0.9921875  0.9902363  ... 0.9921875  0.99414254 0.99610141]\n",
      " [0.99219519 0.9902363  0.98828125 ... 0.9902363  0.99219519 0.99415789]\n",
      " ...\n",
      " [0.99414254 0.9921875  0.9902363  ... 0.9921875  0.99414254 0.99610141]\n",
      " [0.99609375 0.99414254 0.99219519 ... 0.99414254 0.99609375 0.99804879]\n",
      " [0.99804879 0.99610141 0.99415789 ... 0.99610141 0.99804879 1.        ]]\n"
     ]
    }
   ],
   "source": [
    "print(D)"
   ]
  },
  {
   "cell_type": "code",
   "execution_count": 10,
   "id": "9ab22392",
   "metadata": {},
   "outputs": [],
   "source": [
    "Huv = np.zeros((Nx,Ny))\n",
    "\n",
    "D0 = 0.2\n",
    "D1 = 0.6\n",
    "\n",
    "for i in range(Nx):\n",
    "    for j in range(Ny):\n",
    "        if D[i,j] < D0:\n",
    "            Huv[i,j] = 1\n",
    "        if D[i,j] > D1:\n",
    "            Huv[i,j] = 1"
   ]
  },
  {
   "cell_type": "code",
   "execution_count": 11,
   "id": "6c8d5d4c",
   "metadata": {},
   "outputs": [],
   "source": [
    "cv2.imshow('FiltroBaja', np.uint8(255*Huv))"
   ]
  },
  {
   "cell_type": "code",
   "execution_count": 12,
   "id": "b48ad290",
   "metadata": {},
   "outputs": [],
   "source": [
    "Guv = Huv*FFT\n",
    "\n",
    "GuvA = np.abs(Guv)\n",
    "\n",
    "cv2.imshow('EspectroFourierFiltrado', np.uint8( 225*GuvA/np.max(GuvA)  ))"
   ]
  },
  {
   "cell_type": "code",
   "execution_count": 13,
   "id": "4e487bcd",
   "metadata": {},
   "outputs": [],
   "source": [
    "Gxy = np.fft.ifft2(Guv)\n",
    "Gxy = np.abs(Gxy)"
   ]
  },
  {
   "cell_type": "code",
   "execution_count": 14,
   "id": "23d80291",
   "metadata": {},
   "outputs": [],
   "source": [
    "cv2.imshow('NuevaImagen', np.uint8( Gxy  ))"
   ]
  },
  {
   "cell_type": "code",
   "execution_count": null,
   "id": "17076d10",
   "metadata": {},
   "outputs": [],
   "source": []
  }
 ],
 "metadata": {
  "kernelspec": {
   "display_name": "Python 3",
   "language": "python",
   "name": "python3"
  },
  "language_info": {
   "codemirror_mode": {
    "name": "ipython",
    "version": 3
   },
   "file_extension": ".py",
   "mimetype": "text/x-python",
   "name": "python",
   "nbconvert_exporter": "python",
   "pygments_lexer": "ipython3",
   "version": "3.8.2"
  }
 },
 "nbformat": 4,
 "nbformat_minor": 5
}
