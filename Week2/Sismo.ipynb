{
 "cells": [
  {
   "cell_type": "code",
   "execution_count": 1,
   "id": "0ecd34d2",
   "metadata": {},
   "outputs": [],
   "source": [
    "import numpy as np\n",
    "import matplotlib.pyplot as plt\n",
    "from matplotlib import rc \n",
    "import os.path as path\n",
    "import wget"
   ]
  },
  {
   "cell_type": "markdown",
   "id": "7007bc1b",
   "metadata": {},
   "source": [
    "http://www.cismid.uni.edu.pe/ceois/red/#"
   ]
  },
  {
   "cell_type": "code",
   "execution_count": 3,
   "id": "d2576f90",
   "metadata": {},
   "outputs": [
    {
     "name": "stdout",
     "output_type": "stream",
     "text": [
      "rm: no se puede borrar 'Data/*': No existe el archivo o el directorio\n",
      "Descargado\n"
     ]
    }
   ],
   "source": [
    "!rm Data/*\n",
    "file = 'Data/data.dat'\n",
    "url = 'https://raw.githubusercontent.com/asegura4488/Database/main/MetodosComputacionalesReforma/Sismo.txt'\n",
    "if not path.exists(file):\n",
    "    Path_ = wget.download(url,file)\n",
    "    print('Descargado')\n",
    "else:\n",
    "    Path_ = file"
   ]
  },
  {
   "cell_type": "code",
   "execution_count": 4,
   "id": "5f2b5808",
   "metadata": {},
   "outputs": [],
   "source": [
    "data = np.loadtxt(Path_)\n",
    "a = data[:,1]"
   ]
  },
  {
   "cell_type": "code",
   "execution_count": 5,
   "id": "07b57fc3",
   "metadata": {},
   "outputs": [
    {
     "data": {
      "text/plain": [
       "[<matplotlib.lines.Line2D at 0x7fccb80ba3d0>]"
      ]
     },
     "execution_count": 5,
     "metadata": {},
     "output_type": "execute_result"
    },
    {
     "data": {
      "image/png": "[encoded data removed]",
      "text/plain": [
       "<Figure size 432x288 with 1 Axes>"
      ]
     },
     "metadata": {
      "needs_background": "light"
     },
     "output_type": "display_data"
    }
   ],
   "source": [
    "plt.plot(a)"
   ]
  },
  {
   "cell_type": "code",
   "execution_count": 6,
   "id": "d761e95b",
   "metadata": {},
   "outputs": [],
   "source": [
    "fft = np.fft.fft(a)"
   ]
  },
  {
   "cell_type": "code",
   "execution_count": 7,
   "id": "04b5d192",
   "metadata": {},
   "outputs": [
    {
     "name": "stdout",
     "output_type": "stream",
     "text": [
      "24001\n"
     ]
    }
   ],
   "source": [
    "Npoints = len(a)\n",
    "print(Npoints)"
   ]
  },
  {
   "cell_type": "code",
   "execution_count": 11,
   "id": "a8d92c4a",
   "metadata": {},
   "outputs": [],
   "source": [
    "Frecuencias = np.fft.fftfreq(Npoints,1)\n",
    "#print(Frecuencias)\n",
    "ffta = np.abs(fft)"
   ]
  },
  {
   "cell_type": "code",
   "execution_count": 12,
   "id": "014ec201",
   "metadata": {},
   "outputs": [
    {
     "data": {
      "text/plain": [
       "<matplotlib.collections.PathCollection at 0x7fccd09542b0>"
      ]
     },
     "execution_count": 12,
     "metadata": {},
     "output_type": "execute_result"
    },
    {
     "data": {
      "image/png": "[encoded data removed]",
      "text/plain": [
       "<Figure size 432x288 with 1 Axes>"
      ]
     },
     "metadata": {
      "needs_background": "light"
     },
     "output_type": "display_data"
    }
   ],
   "source": [
    "plt.scatter(Frecuencias,np.abs(fft/Npoints))"
   ]
  },
  {
   "cell_type": "code",
   "execution_count": 13,
   "id": "afbb47f8",
   "metadata": {},
   "outputs": [],
   "source": [
    "mask = Frecuencias < 0\n",
    "fft[mask] = 0"
   ]
  },
  {
   "cell_type": "code",
   "execution_count": 14,
   "id": "1d701413",
   "metadata": {},
   "outputs": [],
   "source": [
    "NewFreq = np.arange(len(fft))"
   ]
  },
  {
   "cell_type": "code",
   "execution_count": 15,
   "id": "f3ea063f",
   "metadata": {},
   "outputs": [
    {
     "data": {
      "text/plain": [
       "<matplotlib.collections.PathCollection at 0x7fccd0984370>"
      ]
     },
     "execution_count": 15,
     "metadata": {},
     "output_type": "execute_result"
    },
    {
     "data": {
      "image/png": "[encoded data removed]",
      "text/plain": [
       "<Figure size 432x288 with 1 Axes>"
      ]
     },
     "metadata": {
      "needs_background": "light"
     },
     "output_type": "display_data"
    }
   ],
   "source": [
    "plt.scatter(Frecuencias,np.abs(fft/Npoints))"
   ]
  },
  {
   "cell_type": "code",
   "execution_count": 16,
   "id": "4e9c89a9",
   "metadata": {},
   "outputs": [
    {
     "name": "stdout",
     "output_type": "stream",
     "text": [
      "0.315070205408108\n"
     ]
    }
   ],
   "source": [
    "ii = np.argmax(np.abs(fft))\n",
    "print(Frecuencias[ii])"
   ]
  },
  {
   "cell_type": "code",
   "execution_count": 17,
   "id": "0ffb4c9c",
   "metadata": {},
   "outputs": [
    {
     "name": "stdout",
     "output_type": "stream",
     "text": [
      "3.17389579476329\n"
     ]
    }
   ],
   "source": [
    "print(1/Frecuencias[ii])"
   ]
  },
  {
   "cell_type": "code",
   "execution_count": null,
   "id": "be6457a7",
   "metadata": {},
   "outputs": [],
   "source": []
  }
 ],
 "metadata": {
  "kernelspec": {
   "display_name": "Python 3",
   "language": "python",
   "name": "python3"
  },
  "language_info": {
   "codemirror_mode": {
    "name": "ipython",
    "version": 3
   },
   "file_extension": ".py",
   "mimetype": "text/x-python",
   "name": "python",
   "nbconvert_exporter": "python",
   "pygments_lexer": "ipython3",
   "version": "3.8.2"
  }
 },
 "nbformat": 4,
 "nbformat_minor": 5
}
