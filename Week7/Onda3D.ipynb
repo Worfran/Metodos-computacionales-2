{
 "cells": [
  {
   "cell_type": "code",
   "execution_count": 1,
   "metadata": {},
   "outputs": [
    {
     "name": "stdout",
     "output_type": "stream",
     "text": [
      "Using matplotlib backend: Qt5Agg\n",
      "Populating the interactive namespace from numpy and matplotlib\n"
     ]
    }
   ],
   "source": [
    "%pylab\n",
    "\n",
    "import numpy as np\n",
    "import matplotlib.pyplot as plt\n",
    "from matplotlib import rc\n",
    "from mpl_toolkits.mplot3d import axes3d\n",
    "from matplotlib import cm\n",
    "import matplotlib as mpl\n",
    "import matplotlib.animation as animation\n",
    "\n",
    "import copy"
   ]
  },
  {
   "cell_type": "code",
   "execution_count": 2,
   "metadata": {},
   "outputs": [
    {
     "name": "stdout",
     "output_type": "stream",
     "text": [
      "0.00667779632721202 0.2222222222222222 0.18030050083472454 0.18030050083472454 0.18030050083472454\n"
     ]
    }
   ],
   "source": [
    "Xmin, Xmax, Npoints_x = 0.,2.,10\n",
    "Ymin, Ymax, Npoints_y = 0.,2.,10\n",
    "Zmin, Zmax, Npoints_z = 0.,2.,10\n",
    "\n",
    "Tmin, Tmax, Npoints_t = 0.,4.,600\n",
    "\n",
    "x = np.linspace(Xmin, Xmax, Npoints_x)\n",
    "y = np.linspace(Ymin, Ymax, Npoints_y)\n",
    "z = np.linspace(Zmin, Zmax, Npoints_z)\n",
    "\n",
    "t = np.linspace(Tmin, Tmax, Npoints_t)\n",
    "\n",
    "deltat = (Tmax-Tmin)/(Npoints_t-1)\n",
    "deltax = (Xmax-Xmin)/(Npoints_x-1)\n",
    "deltay = (Ymax-Ymin)/(Npoints_y-1)\n",
    "deltaz = (Zmax-Zmin)/(Npoints_z-1)\n",
    "\n",
    "\n",
    "v = 6.0\n",
    "\n",
    "lambda_ = v*deltat/deltax\n",
    "mu_ = v*deltat/deltay\n",
    "nu_ = v*deltat/deltaz\n",
    "\n",
    "print(deltat, deltax, lambda_, mu_, nu_)"
   ]
  },
  {
   "cell_type": "code",
   "execution_count": 3,
   "metadata": {},
   "outputs": [],
   "source": [
    "# Definimos condicion inicial\n",
    "\n",
    "def ui(x,y,z):\n",
    "    return np.sin(np.pi*x)*np.cos(np.pi*y)*np.sin(np.pi*z)\n",
    "\n",
    "# Definimos el campo de la onda\n",
    "\n",
    "u = np.zeros((Npoints_x,Npoints_y, Npoints_z))\n",
    "\n",
    "for i in range(len(x)):\n",
    "    for j in range(len(y)):\n",
    "        for k in range(len(z)):\n",
    "            u[i,j,k] = ui(x[i],y[j],z[k])\n",
    "\n",
    "#print(u)"
   ]
  },
  {
   "cell_type": "code",
   "execution_count": 4,
   "metadata": {},
   "outputs": [],
   "source": [
    "u_pasado = u.copy()\n",
    "u_presente = u.copy()\n",
    "u_futuro = u.copy()"
   ]
  },
  {
   "cell_type": "code",
   "execution_count": 5,
   "metadata": {},
   "outputs": [],
   "source": [
    "\n",
    "U = np.zeros((Npoints_t, Npoints_x, Npoints_y, Npoints_z))\n",
    "\n",
    "gamma = 3.*deltat\n",
    "\n",
    "for l in range(len(t)):\n",
    "    \n",
    "    # Aca ajustamos fronteras moviles\n",
    "    #u_futuro[:,:,-1] = 2.0*np.sin(np.pi*t[l])\n",
    "    \n",
    "    for i in range(1,len(x)-1):\n",
    "        for j in range(1,len(y)-1):\n",
    "            for k in range(1,len(z)-1):\n",
    "                u_futuro[i,j,k] = 2.*(1-lambda_**2-mu_**2-nu_**2)*u_presente[i,j,k] \\\n",
    "                + lambda_**2*(u_presente[i+1,j,k] + u_presente[i-1,j,k]) \\\n",
    "                + mu_**2*(u_presente[i,j+1,k]+u_presente[i,j-1,k]) \\\n",
    "                + nu_**2*(u_presente[i,j,k+1]+u_presente[i,j,k-1]) \\\n",
    "                - u_pasado[i,j,k] \\\n",
    "                - gamma*u_presente[i,j,k] + gamma*u_pasado[i,j,k]\n",
    "\n",
    "    U[l,:,:,:] = u_futuro\n",
    "    \n",
    "      # Actualizacion\n",
    "    u_pasado=copy.deepcopy(u_presente)\n",
    "    u_presente=copy.deepcopy(u_futuro)   \n"
   ]
  },
  {
   "cell_type": "code",
   "execution_count": 10,
   "metadata": {},
   "outputs": [],
   "source": [
    "# Zona de animacion\n",
    "\n",
    "Nframes = len(t) \n",
    "fig = plt.figure()\n",
    "ax = fig.add_subplot(1,1,1, projection = '3d',elev = 30, azim = 50)\n",
    "\n",
    "def init():\n",
    "    ax.set_xlim3d(Xmin, Xmax)\n",
    "    ax.set_ylim3d(Ymin, Ymax)\n",
    "    ax.set_zlim3d(Zmin, Zmax)\n",
    "\n",
    "    ax.set_xlabel('$x$', fontsize=10)\n",
    "    ax.set_ylabel('$y$', fontsize=10)\n",
    "    ax.set_zlabel('$z$', fontsize=10)  \n",
    "\n",
    "def animate(i):\n",
    "    \n",
    "    plot = ax.clear()\n",
    "    init()\n",
    "    \n",
    "    x_, y_, z_ = np.meshgrid(x, y, z, indexing='ij') + U[i]\n",
    "    \n",
    "    plot = ax.scatter3D(x_,y_,z_, marker='.', color='b', alpha=0.6)\n",
    "    fake2Dline = mpl.lines.Line2D([0],[0], linestyle='none', c='b', marker='o')\n",
    "    plot = ax.legend([fake2Dline], [r'u(%.2f,x,y,z)' %(t[i])], numpoints=1)\n",
    "    return plot\n",
    "\n",
    "Animation = animation.FuncAnimation(fig, animate, frames=Nframes, init_func=init)   "
   ]
  },
  {
   "cell_type": "code",
   "execution_count": 7,
   "metadata": {},
   "outputs": [],
   "source": []
  },
  {
   "cell_type": "code",
   "execution_count": 8,
   "metadata": {},
   "outputs": [],
   "source": []
  },
  {
   "cell_type": "code",
   "execution_count": 9,
   "metadata": {},
   "outputs": [],
   "source": [
    "Writer = animation.writers['ffmpeg']\n",
    "writer = Writer(fps=10, metadata=dict(artist='Me'), bitrate=1800 )\n",
    "#Animation.save( 'Onda3D.mp4', writer=writer )"
   ]
  },
  {
   "cell_type": "code",
   "execution_count": null,
   "metadata": {},
   "outputs": [],
   "source": []
  }
 ],
 "metadata": {
  "kernelspec": {
   "display_name": "Python 3",
   "language": "python",
   "name": "python3"
  },
  "language_info": {
   "codemirror_mode": {
    "name": "ipython",
    "version": 3
   },
   "file_extension": ".py",
   "mimetype": "text/x-python",
   "name": "python",
   "nbconvert_exporter": "python",
   "pygments_lexer": "ipython3",
   "version": "3.8.2"
  }
 },
 "nbformat": 4,
 "nbformat_minor": 2
}
