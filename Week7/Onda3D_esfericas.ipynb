{
 "cells": [
  {
   "cell_type": "code",
   "execution_count": 1,
   "metadata": {},
   "outputs": [
    {
     "name": "stdout",
     "output_type": "stream",
     "text": [
      "Using matplotlib backend: Qt5Agg\n",
      "Populating the interactive namespace from numpy and matplotlib\n"
     ]
    }
   ],
   "source": [
    "#%matplotlib notebook\n",
    "%pylab\n",
    "import numpy as np\n",
    "import matplotlib.pyplot as plt\n",
    "from matplotlib import rc\n",
    "from mpl_toolkits.mplot3d import axes3d\n",
    "from matplotlib import cm\n",
    "import matplotlib as mpl\n",
    "import matplotlib.animation as animation\n",
    "\n",
    "import copy"
   ]
  },
  {
   "cell_type": "code",
   "execution_count": 2,
   "metadata": {},
   "outputs": [
    {
     "name": "stdout",
     "output_type": "stream",
     "text": [
      "0.1 0.3306939635357677 0.1435491256963586 0.010050251256281407\n",
      "0.10050251256281406 0.6966256291349652 0.30239439187460115\n"
     ]
    }
   ],
   "source": [
    "rmin, rmax, Npoints_r = 0.1, 1., 10\n",
    "thetamin, thetamax, Npoints_theta = 0.1, 0.9*np.pi, 20\n",
    "phimin, phimax, Npoints_phi = 0., 2.*np.pi, 20\n",
    "\n",
    "Tmin, Tmax, Npoints_t = 0.,2.0, 200\n",
    "\n",
    "r = np.linspace(rmin, rmax, Npoints_r)\n",
    "theta = np.linspace(thetamin, thetamax, Npoints_theta)\n",
    "phi = np.linspace(phimin, phimax, Npoints_phi)\n",
    "\n",
    "t = np.linspace(Tmin, Tmax, Npoints_t)\n",
    "\n",
    "dr = (rmax-rmin)/(Npoints_r-1)\n",
    "dtheta = (thetamax-thetamin)/(Npoints_theta-1)\n",
    "dphi = (phimax-phimin)/(Npoints_phi-1)\n",
    "deltat = (Tmax-Tmin)/(Npoints_t-1)\n",
    "\n",
    "\n",
    "# Velocidad de la onda\n",
    "\n",
    "v = 1.0\n",
    "\n",
    "nu_ = v*deltat/dr\n",
    "lambda_ = dr/dtheta\n",
    "mu_ = dr/dphi\n",
    "\n",
    "print(dr,dphi,dtheta, deltat) \n",
    "print(nu_, lambda_, mu_)"
   ]
  },
  {
   "cell_type": "code",
   "execution_count": 3,
   "metadata": {},
   "outputs": [],
   "source": [
    "# Definimos condicion inicial para la onda\n",
    "\n",
    "def ui(r,theta,phi):\n",
    "   # return 0.3/r\n",
    "   # return 0.5*np.sin(2*np.pi*r)/r \n",
    "    return 0.\n",
    "\n",
    "u = np.zeros((Npoints_t,Npoints_r,Npoints_theta,Npoints_phi))\n",
    "\n",
    "for i in range(len(r)):\n",
    "    for j in range(len(theta)):\n",
    "        for k in range(len(phi)):\n",
    "            u[0,i,j,k] = ui(r[i],theta[j],phi[k])"
   ]
  },
  {
   "cell_type": "code",
   "execution_count": 4,
   "metadata": {},
   "outputs": [],
   "source": [
    "# Fuente de onda\n",
    "\n",
    "def Source(r,theta,phi):\n",
    "    return -0.003*np.cos(2*np.pi*r) "
   ]
  },
  {
   "cell_type": "code",
   "execution_count": 5,
   "metadata": {},
   "outputs": [],
   "source": [
    "# Zona de evolucion\n",
    "\n",
    "#i = r , j = theta, k = phi\n",
    "\n",
    "for l in range(1,len(t)):\n",
    "    \n",
    "    \n",
    "    \n",
    "    if l==1:\n",
    "        u[l,:,:,:] = u[l-1,:,:,:] # Si la velocidad de la onda = 0\n",
    "    else:\n",
    "        \n",
    "        u[l,-1,:,:] = 0.3*np.sin(t[l])\n",
    "        \n",
    "    \n",
    "        for i in range(len(r)-1):\n",
    "            for j in range(len(theta)-1):\n",
    "                for k in range(len(phi)):\n",
    "                \n",
    "                    # Condicion de peridicidad\n",
    "                    if k == len(phi)-1:\n",
    "                        p = 1\n",
    "                    else:\n",
    "                        p = k+1\n",
    "                    \n",
    "                    a = 1.\n",
    "                    b = dr/r[i]\n",
    "                    c = (lambda_/r[i])**2\n",
    "                    d = (dr**2)/(r[i]**2*np.tan(theta[j])*dtheta)\n",
    "                    e = ( (mu_)/(r[i]*np.sin(theta[j])) )**2\n",
    "                    \n",
    "                    #print(a,b,c,d,e)\n",
    "                    \n",
    "                    u[l,i,j,k] = (nu_**2)*(  a*(u[l-1,i+1,j,k] - 2*u[l-1,i,j,k] + u[l-1,i-1,j,k]) \\\n",
    "                                           + b*(u[l-1,i+1,j,k] +   u[l-1,i-1,j,k]) \\\n",
    "                                          # + c*(u[l-1,i,j+1,k] - 2*u[l-1,i,j,k] + u[l-1,i,j-1,k]) \\\n",
    "                                          # + d*(u[l-1,i,j+1,k] + u[l-1,i,j-1,k]) \\\n",
    "                                          # + e*(u[l-1,i,j,p] - 2*u[l-1,i,j,k] + u[l-1,i,j,k-1]) \\\n",
    "                                           ) \\\n",
    "                    + 2.*u[l-1,i,j,k] - u[l-2,i,j,k] \\\n",
    "                    #- Source(r[i],theta[j],phi[k]) # Fuente"
   ]
  },
  {
   "cell_type": "code",
   "execution_count": 6,
   "metadata": {},
   "outputs": [],
   "source": [
    "# Zona de solucion\n",
    "\n",
    "Nframes = len(t)\n",
    "fig = plt.figure()\n",
    "ax = fig.add_subplot(1,1,1, projection = '3d',elev = 30, azim = 50)\n",
    "\n",
    "lim = 5\n",
    "\n",
    "def init():\n",
    "    \n",
    "    ax.set_xlim3d(-lim, lim)\n",
    "    ax.set_ylim3d(-lim, lim)\n",
    "    ax.set_zlim3d(-lim, lim)\n",
    "\n",
    "    ax.set_xlabel('$x$', fontsize=10)\n",
    "    ax.set_ylabel('$y$', fontsize=10)\n",
    "    ax.set_zlabel('$z$', fontsize=10)  \n",
    "    \n",
    "def animate(i):\n",
    "    \n",
    "    plot = ax.clear()\n",
    "       \n",
    "    init()\n",
    " \n",
    "    R, Theta, Phi = np.meshgrid(r,theta,phi, indexing='ij') + u[i,:,:,:]\n",
    "    \n",
    "    X,Y,Z = R*np.sin(Theta)*np.cos(Phi), R*np.sin(Theta)*np.sin(Phi), R*cos(Theta) \n",
    "    \n",
    "    plot = ax.scatter3D(X,Y,Z, marker='.', color='b', alpha=0.5)\n",
    "    fake2Dline = mpl.lines.Line2D([0],[0], linestyle='none', c='b', marker='o')\n",
    "    plot = ax.legend([fake2Dline], [r'$u(%.3f,r,\\theta,\\phi)$' %(t[i])], numpoints=1)\n",
    "    return plot\n",
    "\n",
    "Animation = animation.FuncAnimation(fig, animate, frames=Nframes, init_func=init)"
   ]
  },
  {
   "cell_type": "code",
   "execution_count": null,
   "metadata": {},
   "outputs": [],
   "source": []
  },
  {
   "cell_type": "code",
   "execution_count": null,
   "metadata": {},
   "outputs": [],
   "source": []
  },
  {
   "cell_type": "code",
   "execution_count": 7,
   "metadata": {},
   "outputs": [],
   "source": [
    "Writer = animation.writers['ffmpeg']\n",
    "writer = Writer(fps=10, metadata=dict(artist='Me'), bitrate=1800 )\n",
    "#Animation.save( 'Onda3D_Esfericas.mp4', writer=writer )"
   ]
  },
  {
   "cell_type": "code",
   "execution_count": null,
   "metadata": {},
   "outputs": [],
   "source": []
  }
 ],
 "metadata": {
  "kernelspec": {
   "display_name": "Python 3",
   "language": "python",
   "name": "python3"
  },
  "language_info": {
   "codemirror_mode": {
    "name": "ipython",
    "version": 3
   },
   "file_extension": ".py",
   "mimetype": "text/x-python",
   "name": "python",
   "nbconvert_exporter": "python",
   "pygments_lexer": "ipython3",
   "version": "3.8.2"
  }
 },
 "nbformat": 4,
 "nbformat_minor": 2
}
